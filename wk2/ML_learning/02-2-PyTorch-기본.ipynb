{
 "cells": [
  {
   "cell_type": "markdown",
   "metadata": {
    "colab_type": "text",
    "id": "dKoPDCjCVUVn"
   },
   "source": [
    "# Pytorch Basics\n",
    "\n",
    "- Stevens, Antiga and Viehmann (2020), \"Deep Learning with PyTorch\" 참고\n",
    "- PyTorch tutorial website 참고(https://tutorials.pytorch.kr/beginner/deep_learning_60min_blitz.html)"
   ]
  },
  {
   "cell_type": "markdown",
   "metadata": {
    "colab_type": "text",
    "id": "V-XO4CJ-VdYJ"
   },
   "source": [
    "### **PyTorch**\n",
    "* provides multidimensional arrays\n",
    "* *tensors*, and an extensive *library of operations* on them"
   ]
  },
  {
   "cell_type": "code",
   "execution_count": null,
   "metadata": {
    "colab": {},
    "colab_type": "code",
    "id": "QwtH-86-VnRs"
   },
   "outputs": [],
   "source": [
    "# torch가 설치되어 있지 않다면\n",
    "# https://pytorch.org 에서 환경에 맞는 command로 설치하거나\n",
    "# !pip install torch\n",
    "# 또는 !pip3 install torch (Python3 환경임을 명시)\n",
    "\n",
    "import torch"
   ]
  },
  {
   "cell_type": "markdown",
   "metadata": {
    "colab_type": "text",
    "id": "4isdOwxZbfQy"
   },
   "source": [
    "### 1. Tensor란? Tensor 만들기\n",
    "\n",
    "* Tensors: Multidimensional arrays\n"
   ]
  },
  {
   "cell_type": "code",
   "execution_count": null,
   "metadata": {
    "colab": {
     "base_uri": "https://localhost:8080/",
     "height": 153
    },
    "colab_type": "code",
    "id": "Pbbatb8lVBvs",
    "outputId": "b6acba42-e0df-47d8-80e2-31fb60977eb4",
    "scrolled": true
   },
   "outputs": [],
   "source": [
    "# Create a torch.Tensor object with the given data.  It is a 1D vector\n",
    "V_data = [1., 2., 3.]\n",
    "V = torch.Tensor(V_data)\n",
    "print(V)\n",
    "\n",
    "# Creates a matrix\n",
    "M_data = [[1., 2., 3.], [4., 5., 6]]\n",
    "M = torch.Tensor(M_data)\n",
    "print(M)\n",
    "\n",
    "# Create a 3D tensor of size 2x2x2.\n",
    "T_data = [[[1.,2.], [3.,4.]],\n",
    "          [[5.,6.], [7.,8.]]]\n",
    "T = torch.Tensor(T_data)\n",
    "print(T)"
   ]
  },
  {
   "cell_type": "code",
   "execution_count": null,
   "metadata": {
    "colab": {
     "base_uri": "https://localhost:8080/",
     "height": 68
    },
    "colab_type": "code",
    "id": "vVc3HcRTc1AD",
    "outputId": "119a0608-a204-48ca-de21-0009dfeb83a1"
   },
   "outputs": [],
   "source": [
    "# torch.ones: tensor를 size에 맞게 1로 채운다\n",
    "a = torch.ones(3)\n",
    "print(a)\n",
    "\n",
    "b = torch.ones(2, 3)\n",
    "print(b)"
   ]
  },
  {
   "cell_type": "code",
   "execution_count": null,
   "metadata": {
    "colab": {
     "base_uri": "https://localhost:8080/",
     "height": 272
    },
    "colab_type": "code",
    "id": "4ju-BJS_dldu",
    "outputId": "5db4fe9b-983c-4e19-8d55-0aba9f3a2179"
   },
   "outputs": [],
   "source": [
    "# torch.zeros: tensor를 size에 맞게 0으로 채운다\n",
    "c = torch.zeros(4)\n",
    "print(c)\n",
    "\n",
    "d = torch.zeros(5, 2, 3)\n",
    "print(d)"
   ]
  },
  {
   "cell_type": "code",
   "execution_count": null,
   "metadata": {},
   "outputs": [],
   "source": [
    "# 초기화하면서 현재 메모리에 존재하는 값\n",
    "x = torch.empty(5, 3)\n",
    "print(x)\n",
    "\n",
    "x = torch.rand(5, 3)\n",
    "print(x)"
   ]
  },
  {
   "cell_type": "code",
   "execution_count": null,
   "metadata": {
    "colab": {
     "base_uri": "https://localhost:8080/",
     "height": 68
    },
    "colab_type": "code",
    "id": "LGi1jp7VqN2I",
    "outputId": "0fa4faa8-cf52-4564-c29b-cf7f70f5dd58"
   },
   "outputs": [],
   "source": [
    "# torch.rand: 랜덤 숫자로 tensor를 채운다\n",
    "rand_points = torch.rand(4, dtype=torch.double)\n",
    "print(rand_points)\n",
    "\n",
    "rand_points_2 = torch.rand(2, 3, dtype=torch.float)\n",
    "print(rand_points_2)"
   ]
  },
  {
   "cell_type": "code",
   "execution_count": null,
   "metadata": {},
   "outputs": [],
   "source": [
    "# 행렬 사이즈\n",
    "print(rand_points_2.size())"
   ]
  },
  {
   "cell_type": "markdown",
   "metadata": {
    "colab_type": "text",
    "id": "8oKuS5aSduU8"
   },
   "source": [
    "### 2. Indexing Tensors"
   ]
  },
  {
   "cell_type": "code",
   "execution_count": null,
   "metadata": {
    "colab": {
     "base_uri": "https://localhost:8080/",
     "height": 136
    },
    "colab_type": "code",
    "id": "neAw8Z6xdr4b",
    "outputId": "d649223d-26c5-4b2c-e0fe-d4ff9a2c5514"
   },
   "outputs": [],
   "source": [
    "temp = torch.Tensor([0, 1, 2, 3, 4, 5, 6, 7])\n",
    "\n",
    "print(temp[:]) # tensor element 전체\n",
    "print(temp[1:4]) # index 1과 4 사이의 원소들 출력\n",
    "print(temp[1:]) # index 1부터의 원소들 출력\n",
    "print(temp[:4]) # index 4까지의 원소들 출력\n",
    "print(temp[-1]) # 뒤에서 첫번째 원소 출력\n",
    "print(temp[:-1]) # index -1 = 뒤에서부터 index 1에 해당하는 원소까지만 출력\n",
    "print(temp[1:6:2]) # index 1과 6 사이의 원소 출력, 이때 2개 단위로 건너뛰면서"
   ]
  },
  {
   "cell_type": "code",
   "execution_count": null,
   "metadata": {
    "colab": {
     "base_uri": "https://localhost:8080/",
     "height": 68
    },
    "colab_type": "code",
    "id": "4WO5sfMIet7x",
    "outputId": "5e905b69-8d12-4ba2-a214-959482768efa"
   },
   "outputs": [],
   "source": [
    "temp2 = torch.Tensor([[1, 2, 3], [4, 5, 6]])\n",
    "\n",
    "print(temp2)\n",
    "print(temp2[1:])\n",
    "print(temp2[1:, 1:])\n",
    "print(temp2[1:, 0])"
   ]
  },
  {
   "cell_type": "markdown",
   "metadata": {
    "colab_type": "text",
    "id": "S_udPVfjfomz"
   },
   "source": [
    "## 3. Tensor element types\n",
    "\n",
    "add 'dtype' argument to tensor constructors \n",
    "\n",
    "-> specify the data type that will be contained in the tensor\n",
    "\n",
    "dtype을 구성하는 것:\n",
    "- possible values the tensor can hold (int, float, ...)\n",
    "- number of bytes per value (8, 16, 32, ...)\n",
    "\n",
    "예)\n",
    "\n",
    "- torch.float32 (= torch.float): 32-bit floating point\n",
    "\n",
    "- torch.float64 (= torch.double): 64-bit, double-precision floating point\n",
    "\n",
    "- torch.float16 (= torch.half): 16-bit, half-precision floating point\n",
    "\n",
    "- torch.int32 (= torch.int): 32-bit integers\n",
    "\n",
    "- torch.int64 (= torch.long): 64-bit integers\n",
    "\n",
    "- torch.bool: Boolean\n",
    "\n",
    "...\n",
    "\n"
   ]
  },
  {
   "cell_type": "code",
   "execution_count": null,
   "metadata": {
    "colab": {
     "base_uri": "https://localhost:8080/",
     "height": 119
    },
    "colab_type": "code",
    "id": "rgq_coZiiWSs",
    "outputId": "6eceea5c-0bf7-4dfe-fd1f-6d1835f6c582"
   },
   "outputs": [],
   "source": [
    "float_points = torch.ones(5, 2, dtype=torch.float32)\n",
    "int_points = torch.zeros(3, dtype=torch.int64)\n",
    "\n",
    "print(float_points)\n",
    "print(int_points)"
   ]
  },
  {
   "cell_type": "code",
   "execution_count": null,
   "metadata": {
    "colab": {
     "base_uri": "https://localhost:8080/",
     "height": 34
    },
    "colab_type": "code",
    "id": "po8KyFFaj30-",
    "outputId": "9ee31c79-7fa2-422b-c8ca-31045a6b70c4"
   },
   "outputs": [],
   "source": [
    "# default: float\n",
    "default_points = torch.Tensor([2, 2])\n",
    "print(default_points)"
   ]
  },
  {
   "cell_type": "code",
   "execution_count": null,
   "metadata": {
    "colab": {
     "base_uri": "https://localhost:8080/",
     "height": 68
    },
    "colab_type": "code",
    "id": "XMaXu5o_j6-s",
    "outputId": "a7735e3d-22b3-41dc-f357-54faba008ae8"
   },
   "outputs": [],
   "source": [
    "# find out dtype\n",
    "print(float_points.dtype)\n",
    "print(int_points.dtype)\n",
    "print(default_points.dtype)"
   ]
  },
  {
   "cell_type": "code",
   "execution_count": null,
   "metadata": {
    "colab": {
     "base_uri": "https://localhost:8080/",
     "height": 85
    },
    "colab_type": "code",
    "id": "mwFvF367kT-U",
    "outputId": "ff1c5a28-ac6d-4103-964e-9c8e4cacc094"
   },
   "outputs": [],
   "source": [
    "# other forms of specifying dtype\n",
    "\n",
    "to_int_1 = float_points.int()\n",
    "print(to_int_1.dtype)\n",
    "\n",
    "# 'to' checks whether the conversion is necessary and if so, does it.\n",
    "to_int_2 = float_points.to(torch.int64)\n",
    "print(to_int_2.dtype)\n",
    "\n",
    "to_float_1 = int_points.float()\n",
    "print(to_float_1.dtype)\n",
    "\n",
    "to_float_2 = int_points.to(dtype=torch.float16)\n",
    "print(to_float_2.dtype)\n"
   ]
  },
  {
   "cell_type": "markdown",
   "metadata": {
    "colab_type": "text",
    "id": "M2Ho6YMFljQo"
   },
   "source": [
    "## 4. The Tensor API\n",
    "\n",
    "tensor와 관련된 대부분의 operation은 torch 모듈에 구현되어 있음\n",
    "\n",
    "예)\n",
    "\n",
    "- math operations: abs, cos, mean, std, norm, equal, max, ...\n",
    "- tensor element-wise sum, concat, ...\n",
    "- random sampling: randn, normal, ...\n",
    "\n",
    "online docs: https://pytorch.org/docs\n"
   ]
  },
  {
   "cell_type": "markdown",
   "metadata": {
    "colab_type": "text",
    "id": "OfPHhJsnmJQe"
   },
   "source": [
    "## 5. Tensor Shape and Reshape\n"
   ]
  },
  {
   "cell_type": "code",
   "execution_count": null,
   "metadata": {
    "colab": {
     "base_uri": "https://localhost:8080/",
     "height": 68
    },
    "colab_type": "code",
    "id": "rVeNlalxn2Cw",
    "outputId": "7472717b-a70a-402e-dd1d-e64eee5c2118"
   },
   "outputs": [],
   "source": [
    "# shape: Returns the size of the tensor\n",
    "\n",
    "a = torch.Tensor([[1, 2, 3], [4, 5, 6]])\n",
    "\n",
    "print(a)\n",
    "print(a.shape)\n"
   ]
  },
  {
   "cell_type": "code",
   "execution_count": null,
   "metadata": {
    "colab": {
     "base_uri": "https://localhost:8080/",
     "height": 34
    },
    "colab_type": "code",
    "id": "6UUPsdOLrCW6",
    "outputId": "a3152fe0-3b82-4047-9059-b44de584615b"
   },
   "outputs": [],
   "source": [
    "# size()\n",
    "\n",
    "print(a.size())"
   ]
  },
  {
   "cell_type": "code",
   "execution_count": null,
   "metadata": {
    "colab": {
     "base_uri": "https://localhost:8080/",
     "height": 153
    },
    "colab_type": "code",
    "id": "Ot2sY3g0oawP",
    "outputId": "7af31283-f335-47f1-cf29-10c9d8abd953"
   },
   "outputs": [],
   "source": [
    "# Reshape: 주어진 shape로 original tensor에서 데이터를 가져와서 reshape한다\n",
    "\n",
    "a_reshape = a.reshape(3, 2)\n",
    "print(a_reshape)\n",
    "print(a_reshape.shape)\n",
    "\n",
    "a_reshape_2 = a.reshape(-1, 2) # the size -1 is inferred from other dimensions\n",
    "print(a_reshape_2)\n",
    "print(a_reshape_2.shape)"
   ]
  },
  {
   "cell_type": "code",
   "execution_count": null,
   "metadata": {
    "colab": {
     "base_uri": "https://localhost:8080/",
     "height": 198
    },
    "colab_type": "code",
    "id": "jmZpgwXfpDx-",
    "outputId": "a75bf3a5-4c3e-4774-899a-ea236e1da32c"
   },
   "outputs": [],
   "source": [
    "# if shape is not compatible with the current shape:\n",
    "a_no_reshape = a.reshape(4, 2)"
   ]
  },
  {
   "cell_type": "code",
   "execution_count": null,
   "metadata": {
    "colab": {
     "base_uri": "https://localhost:8080/",
     "height": 68
    },
    "colab_type": "code",
    "id": "l7YPGgQTpnWN",
    "outputId": "d5b94a2c-9fc1-4afa-d33d-b9deea96ad7c"
   },
   "outputs": [],
   "source": [
    "# View: Returns a new tensor with the same data as the original tensor but of a different shape.\n",
    "# reshape과 거의 비슷하게 사용\n",
    "\n",
    "x = torch.randn(4, 4)\n",
    "print(x.size())\n",
    "\n",
    "y = x.view(16)\n",
    "print(y.size())\n",
    "\n",
    "z = x.view(-1, 8)  # the size -1 is inferred from other dimensions\n",
    "print(z.size())"
   ]
  },
  {
   "cell_type": "markdown",
   "metadata": {
    "colab_type": "text",
    "id": "NaRU1c5Er3r-"
   },
   "source": [
    "## 6. Transpose"
   ]
  },
  {
   "cell_type": "code",
   "execution_count": null,
   "metadata": {
    "colab": {
     "base_uri": "https://localhost:8080/",
     "height": 170
    },
    "colab_type": "code",
    "id": "R0-zLDjYsyyG",
    "outputId": "ac1da328-4aec-4299-dbce-80594b7bb338"
   },
   "outputs": [],
   "source": [
    "# torch.t: 가장 간단한 형태의 transpose\n",
    "# Expects input to be <= 2-D tensor and transposes dimensions 0 and 1.\n",
    "# 0-D and 1-D tensors are returned as is. When input is a 2-D tensor this is equivalent to transpose(input, 0, 1).\n",
    "\n",
    "x = torch.randn(1)\n",
    "print(x)\n",
    "print(torch.t(x))\n",
    "\n",
    "y = torch.randn(3)\n",
    "print(y)\n",
    "print(y.t())\n",
    "\n",
    "z = torch.randn(2, 3)\n",
    "print(z)\n",
    "print(torch.t(z))"
   ]
  },
  {
   "cell_type": "code",
   "execution_count": null,
   "metadata": {
    "colab": {
     "base_uri": "https://localhost:8080/",
     "height": 102
    },
    "colab_type": "code",
    "id": "RjM2mMhbs8Tc",
    "outputId": "efb92193-4e22-4c7b-9110-29300cb50cd6"
   },
   "outputs": [],
   "source": [
    "# torch.transpose\n",
    "# Returns a tensor that is a transposed version of input. The given dimensions dim0 and dim1 are swapped.\n",
    "\n",
    "w = torch.randn(2, 3)\n",
    "print(w)\n",
    "print(torch.transpose(w, 0, 1))"
   ]
  },
  {
   "cell_type": "code",
   "execution_count": null,
   "metadata": {
    "colab": {
     "base_uri": "https://localhost:8080/",
     "height": 51
    },
    "colab_type": "code",
    "id": "XLJ41HTAtoHL",
    "outputId": "529854dd-46fa-425c-de1d-3b601ce79f40"
   },
   "outputs": [],
   "source": [
    "# more complex case\n",
    "\n",
    "real_example = torch.randn(64, 128, 768)\n",
    "print(real_example.shape)\n",
    "transposed = torch.transpose(real_example, 1, 2)\n",
    "print(transposed.shape)"
   ]
  },
  {
   "cell_type": "markdown",
   "metadata": {},
   "source": [
    "## 7. Operations Example"
   ]
  },
  {
   "cell_type": "code",
   "execution_count": null,
   "metadata": {},
   "outputs": [],
   "source": [
    "x = torch.ones(1, 2)\n",
    "print(x)\n",
    "y = torch.ones(5, 3)\n",
    "print(y)"
   ]
  },
  {
   "cell_type": "code",
   "execution_count": null,
   "metadata": {},
   "outputs": [],
   "source": [
    "print(x+y)"
   ]
  },
  {
   "cell_type": "code",
   "execution_count": null,
   "metadata": {},
   "outputs": [],
   "source": [
    "y = torch.ones(5, 2)\n",
    "print(y)\n",
    "\n",
    "# 1.\n",
    "print(x+y)\n",
    "# 2. \n",
    "print(torch.add(x, y))\n",
    "# 3.\n",
    "result = torch.empty(5, 2)\n",
    "torch.add(x, y, out=result)\n",
    "print(result)\n",
    "# 4. inplace\n",
    "print(y.add_(x))"
   ]
  },
  {
   "cell_type": "markdown",
   "metadata": {},
   "source": [
    "### Additional Information\n",
    "- torch 연산(transpose, indexing, slicing, mathematical operations, linear algebra 등)은 아래 링크에서 추가로 확인 가능\n",
    "- https://pytorch.org/docs/stable/torch.html"
   ]
  },
  {
   "cell_type": "markdown",
   "metadata": {
    "colab_type": "text",
    "id": "qjumWQBhuKsn"
   },
   "source": [
    "### Reference: Moving tensors to the GPU\n",
    "\n",
    "if you are using Google Colaboratory, please set the runtime type to GPUs.\n",
    "\n",
    "화면 상단 **런타임 >> 런타임 유형 변경 >> 하드웨어 가속기 GPU 선택**\n"
   ]
  },
  {
   "cell_type": "code",
   "execution_count": null,
   "metadata": {},
   "outputs": [],
   "source": [
    "torch.cuda.is_available()"
   ]
  },
  {
   "cell_type": "code",
   "execution_count": null,
   "metadata": {
    "colab": {
     "base_uri": "https://localhost:8080/",
     "height": 68
    },
    "colab_type": "code",
    "id": "5QxizvAxu8df",
    "outputId": "fd7e0366-09ac-47fe-ab4a-7d690af2189d"
   },
   "outputs": [],
   "source": [
    "import torch # 런타임 유형을 변경하면 colab 세션이 초기화될 수 있음\n",
    "\n",
    "points_gpu = torch.tensor([[4.0, 1.0], [5.0, 3.0], [2.0, 1.0]], device='cuda')\n",
    "\n",
    "print(points_gpu)"
   ]
  },
  {
   "cell_type": "code",
   "execution_count": null,
   "metadata": {
    "colab": {
     "base_uri": "https://localhost:8080/",
     "height": 51
    },
    "colab_type": "code",
    "id": "of1nZPe-wThd",
    "outputId": "a3acec8b-89be-4a92-fe15-f041cdd7a5f1"
   },
   "outputs": [],
   "source": [
    "points = torch.randn(2, 3)\n",
    "points_gpu = points.to(device='cuda')\n",
    "\n",
    "print(points_gpu)"
   ]
  },
  {
   "cell_type": "markdown",
   "metadata": {
    "colab_type": "text",
    "id": "hvPB3ixRwKQu"
   },
   "source": [
    "If our machine has more than one GPU, we can also decide on which GPU we allocate the tensor by passing a zero-based integer identifying the GPU on the machine, such as cuda:0, cuda:1, ..."
   ]
  },
  {
   "cell_type": "code",
   "execution_count": null,
   "metadata": {
    "colab": {
     "base_uri": "https://localhost:8080/",
     "height": 51
    },
    "colab_type": "code",
    "id": "r24Gocegv7l6",
    "outputId": "5831d71b-41e3-4c3b-9d86-6247dc94fde9"
   },
   "outputs": [],
   "source": [
    "points_gpu_0 = points.to(device='cuda:0')\n",
    "print(points_gpu_0)"
   ]
  },
  {
   "cell_type": "code",
   "execution_count": null,
   "metadata": {
    "colab": {
     "base_uri": "https://localhost:8080/",
     "height": 85
    },
    "colab_type": "code",
    "id": "nx9QcSKdwo07",
    "outputId": "686d9dde-3c77-48c3-c61e-d2aeb6eb42ae"
   },
   "outputs": [],
   "source": [
    "# operations performed on CPU and GPU\n",
    "\n",
    "points = 2 * points   # cpu에서 계산 수행\n",
    "print(points)\n",
    "\n",
    "points_op_gpu = 2 * points.to(device='cuda')  # gpu에서 계산 수행\n",
    "print(points_op_gpu)"
   ]
  },
  {
   "cell_type": "code",
   "execution_count": null,
   "metadata": {
    "colab": {
     "base_uri": "https://localhost:8080/",
     "height": 68
    },
    "colab_type": "code",
    "id": "JSeaQodKw6cS",
    "outputId": "dedb0842-4f41-4a40-c49d-9d2a37a0f9be"
   },
   "outputs": [],
   "source": [
    "# move the tensor back to the CPU\n",
    "\n",
    "points_cpu = points_gpu_0.to(device='cpu')\n",
    "print(points_cpu)\n",
    "print(points_cpu.device)"
   ]
  },
  {
   "cell_type": "code",
   "execution_count": null,
   "metadata": {
    "colab": {
     "base_uri": "https://localhost:8080/",
     "height": 119
    },
    "colab_type": "code",
    "id": "RIjlkk3nxn9j",
    "outputId": "35b0f366-7ba4-4194-9694-a0061ab8b205"
   },
   "outputs": [],
   "source": [
    "# shorter forms\n",
    "points_gpu = points.cuda()\n",
    "print(points_gpu)\n",
    "\n",
    "points_gpu = points.cuda(0)\n",
    "print(points_gpu)\n",
    "\n",
    "points_cpu = points_gpu.cpu()\n",
    "print(points_cpu)"
   ]
  },
  {
   "cell_type": "markdown",
   "metadata": {
    "colab_type": "text",
    "id": "v03s7CHNx0Yz"
   },
   "source": [
    "## 8. Numpy Interpretability\n",
    "\n",
    "PyTorch tensors can be converted to NumPy arrays and vice versa very efficiently."
   ]
  },
  {
   "cell_type": "code",
   "execution_count": null,
   "metadata": {
    "colab": {
     "base_uri": "https://localhost:8080/",
     "height": 68
    },
    "colab_type": "code",
    "id": "Ak0fmFWOx3ij",
    "outputId": "7f8a6114-fff0-4c44-9976-a613d6a01db6"
   },
   "outputs": [],
   "source": [
    "# tensor to numpy array\n",
    "\n",
    "points = torch.ones(3, 4)\n",
    "points_np = points.numpy()\n",
    "\n",
    "print(points_np)"
   ]
  },
  {
   "cell_type": "code",
   "execution_count": null,
   "metadata": {
    "colab": {
     "base_uri": "https://localhost:8080/",
     "height": 68
    },
    "colab_type": "code",
    "id": "ACS2KBbWyJDZ",
    "outputId": "2d8c078a-b1af-4a95-8981-5697e44e8390"
   },
   "outputs": [],
   "source": [
    "# numpy arrray to tensor\n",
    "\n",
    "points = torch.from_numpy(points_np)\n",
    "\n",
    "print(points)"
   ]
  },
  {
   "cell_type": "markdown",
   "metadata": {
    "colab_type": "text",
    "id": "qKvQhwT9yVJp"
   },
   "source": [
    "## 9. Save and load tensors\n",
    "\n",
    "save tensors to a file and load them back at some point\n",
    "\n",
    "PyTorch uses pickle under the hood to serialize the tensor object, plus dedicated serialization code for the storage."
   ]
  },
  {
   "cell_type": "code",
   "execution_count": null,
   "metadata": {
    "colab": {
     "base_uri": "https://localhost:8080/",
     "height": 51
    },
    "colab_type": "code",
    "id": "Spxqbf_kyYaa",
    "outputId": "42f2f6ed-945f-4bef-c6ab-b45a186ec720"
   },
   "outputs": [],
   "source": [
    "print(points)\n",
    "\n",
    "torch.save(points, './points_temp.t')"
   ]
  },
  {
   "cell_type": "code",
   "execution_count": null,
   "metadata": {
    "colab": {
     "base_uri": "https://localhost:8080/",
     "height": 51
    },
    "colab_type": "code",
    "id": "m59EIW7p0N-2",
    "outputId": "3d325290-e967-4975-af1d-727252c4edda"
   },
   "outputs": [],
   "source": [
    "load_points = torch.load('./points_temp.t')\n",
    "print(load_points)"
   ]
  }
 ],
 "metadata": {
  "accelerator": "GPU",
  "colab": {
   "collapsed_sections": [],
   "name": "PyTorch_2020FallSem_edited.ipynb",
   "provenance": [],
   "toc_visible": true
  },
  "kernelspec": {
   "display_name": "Python 3",
   "language": "python",
   "name": "python3"
  },
  "language_info": {
   "codemirror_mode": {
    "name": "ipython",
    "version": 3
   },
   "file_extension": ".py",
   "mimetype": "text/x-python",
   "name": "python",
   "nbconvert_exporter": "python",
   "pygments_lexer": "ipython3",
   "version": "3.7.7"
  }
 },
 "nbformat": 4,
 "nbformat_minor": 1
}
